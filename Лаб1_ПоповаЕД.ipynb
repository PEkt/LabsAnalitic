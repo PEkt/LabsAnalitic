{
  "nbformat": 4,
  "nbformat_minor": 0,
  "metadata": {
    "colab": {
      "name": "Лаб1_ПоповаЕД.ipynb",
      "provenance": [],
      "authorship_tag": "ABX9TyOvDz26OVXlvb+bYDuaFrCq",
      "include_colab_link": true
    },
    "kernelspec": {
      "name": "python3",
      "display_name": "Python 3"
    }
  },
  "cells": [
    {
      "cell_type": "markdown",
      "metadata": {
        "id": "view-in-github",
        "colab_type": "text"
      },
      "source": [
        "<a href=\"https://colab.research.google.com/github/PEkt/LabsAnalitic/blob/main/%D0%9B%D0%B0%D0%B11_%D0%9F%D0%BE%D0%BF%D0%BE%D0%B2%D0%B0%D0%95%D0%94.ipynb\" target=\"_parent\"><img src=\"https://colab.research.google.com/assets/colab-badge.svg\" alt=\"Open In Colab\"/></a>"
      ]
    },
    {
      "cell_type": "markdown",
      "metadata": {
        "id": "5BrctVvD710W"
      },
      "source": [
        "# 1.19. **Считайте 2 числа n, m. Создайте вектор Z состоящий из чисел от n до m с шагом 1.** **Текст, выделенный полужирным шрифтом**\r\n",
        "*Примечание. В этой задаче не нужно ничего выводить на печать. Только создать вектор Z.*\r\n",
        "Sample Input:\r\n",
        "10\r\n",
        "50\r\n",
        "Sample Output:\r\n",
        "<class 'numpy.ndarray'>\r\n",
        "[10 11 12 13 14 15 16 17 18 19 20 21 22 23 24 25 26 27 28 29 30 31 32 33 34 35 36 37 38 39 40 41\r\n",
        "42 43 44 45 46 47 48 49 50]"
      ]
    },
    {
      "cell_type": "code",
      "metadata": {
        "id": "O3rJShcY71G1"
      },
      "source": [
        "import timeit\r\n",
        "import numpy as np\r\n",
        "\r\n",
        "\r\n",
        "def time_arange(size):\r\n",
        "        n = 10 * size\r\n",
        "        m = 50 * size\r\n",
        "        np.arange(n, m+1)\r\n",
        "\r\n",
        "\r\n",
        "def time_range(size):\r\n",
        "        for z in range(10 * size, 51 * size):\r\n",
        "                pass\r\n",
        "\r\n",
        "if __name__ == '__main__':\r\n",
        "\r\n",
        "        start_time = timeit.default_timer()\r\n",
        "        time_range(100)\r\n",
        "        range_time_1 = timeit.default_timer() - start_time\r\n",
        "\r\n",
        "        start_time = timeit.default_timer()\r\n",
        "        time_arange(100)\r\n",
        "        arange_time_1 = timeit.default_timer() - start_time\r\n",
        "\r\n",
        "        start_time = timeit.default_timer()\r\n",
        "        time_range(1000000)\r\n",
        "        range_time_2 = timeit.default_timer() - start_time\r\n",
        "\r\n",
        "        start_time = timeit.default_timer()\r\n",
        "        time_arange(100000)\r\n",
        "        arange_time_2 = timeit.default_timer() - start_time\r\n"
      ],
      "execution_count": null,
      "outputs": []
    },
    {
      "cell_type": "code",
      "metadata": {
        "id": "moseXzYi9wET"
      },
      "source": [
        "print('Array size:1000')\r\n",
        "print(f'size 1000: range() время {range_time_1}')\r\n",
        "print(f'size 1000: arange() время {arange_time_1}')\r\n",
        "\r\n",
        "print('Array size:1000000')\r\n",
        "print(f'size 1000000: range() время {range_time_2}')\r\n",
        "print(f'size 1000000: arange() время {arange_time_2}')\r\n"
      ],
      "execution_count": null,
      "outputs": []
    }
  ]
}