{
  "nbformat": 4,
  "nbformat_minor": 0,
  "metadata": {
    "colab": {
      "name": "Лаб6_ПоповаЕ.Д",
      "provenance": [],
      "collapsed_sections": [],
      "authorship_tag": "ABX9TyMGoLg3pE3pD7YW1QnLa3Q9",
      "include_colab_link": true
    },
    "kernelspec": {
      "name": "python3",
      "display_name": "Python 3"
    },
    "language_info": {
      "name": "python"
    }
  },
  "cells": [
    {
      "cell_type": "markdown",
      "metadata": {
        "id": "view-in-github",
        "colab_type": "text"
      },
      "source": [
        "<a href=\"https://colab.research.google.com/github/PEkt/LabsAnalitic/blob/main/%D0%9B%D0%B0%D0%B16_%D0%9F%D0%BE%D0%BF%D0%BE%D0%B2%D0%B0%D0%95_%D0%94.ipynb\" target=\"_parent\"><img src=\"https://colab.research.google.com/assets/colab-badge.svg\" alt=\"Open In Colab\"/></a>"
      ]
    },
    {
      "cell_type": "code",
      "metadata": {
        "colab": {
          "base_uri": "https://localhost:8080/"
        },
        "id": "EmelVOjtM4Px",
        "outputId": "ade91d5b-156a-4e50-ab21-693ad33bf795"
      },
      "source": [
        "import requests\n",
        "import pandas as pd\n",
        "import matplotlib.pyplot as plt\n",
        "from numpy.random import seed\n",
        "from statsmodels.graphics.gofplots import qqplot\n",
        "from scipy.stats import shapiro\n",
        "from scipy.stats import normaltest\n",
        "from scipy.stats import anderson\n",
        "seed(1)"
      ],
      "execution_count": 1,
      "outputs": [
        {
          "output_type": "stream",
          "text": [
            "/usr/local/lib/python3.7/dist-packages/statsmodels/tools/_testing.py:19: FutureWarning: pandas.util.testing is deprecated. Use the functions in the public API at pandas.testing instead.\n",
            "  import pandas.util.testing as tm\n"
          ],
          "name": "stderr"
        }
      ]
    },
    {
      "cell_type": "code",
      "metadata": {
        "id": "7ipcfH62Onmm",
        "colab": {
          "base_uri": "https://localhost:8080/",
          "height": 195
        },
        "outputId": "f874b775-2530-4e6a-a3fc-1586c2b293ce"
      },
      "source": [
        "url='https://en.wikipedia.org/wiki/List_of_highest-grossing_anime_films' #в тот раз мы с вами обсуждали, что ссылка 19 варианта не вытягивается, поэтому я взяла другую ссылку \n",
        "req=requests.get(url)\n",
        "data=pd.read_html(req.text)\n",
        "df=data[0]\n",
        "df.head()"
      ],
      "execution_count": 17,
      "outputs": [
        {
          "output_type": "execute_result",
          "data": {
            "text/html": [
              "<div>\n",
              "<style scoped>\n",
              "    .dataframe tbody tr th:only-of-type {\n",
              "        vertical-align: middle;\n",
              "    }\n",
              "\n",
              "    .dataframe tbody tr th {\n",
              "        vertical-align: top;\n",
              "    }\n",
              "\n",
              "    .dataframe thead th {\n",
              "        text-align: right;\n",
              "    }\n",
              "</style>\n",
              "<table border=\"1\" class=\"dataframe\">\n",
              "  <thead>\n",
              "    <tr style=\"text-align: right;\">\n",
              "      <th></th>\n",
              "      <th>Rank</th>\n",
              "      <th>Title</th>\n",
              "      <th>Studio</th>\n",
              "      <th>Worldwide gross</th>\n",
              "      <th>Year</th>\n",
              "      <th>Ref</th>\n",
              "    </tr>\n",
              "  </thead>\n",
              "  <tbody>\n",
              "    <tr>\n",
              "      <th>0</th>\n",
              "      <td>1</td>\n",
              "      <td>Demon Slayer: Kimetsu no Yaiba the Movie: Muge...</td>\n",
              "      <td>Ufotable</td>\n",
              "      <td>$474,600,000</td>\n",
              "      <td>2020</td>\n",
              "      <td>[5]</td>\n",
              "    </tr>\n",
              "    <tr>\n",
              "      <th>1</th>\n",
              "      <td>2</td>\n",
              "      <td>Spirited Away</td>\n",
              "      <td>Studio Ghibli</td>\n",
              "      <td>$395,580,000</td>\n",
              "      <td>2001</td>\n",
              "      <td>[6][7]</td>\n",
              "    </tr>\n",
              "    <tr>\n",
              "      <th>2</th>\n",
              "      <td>3</td>\n",
              "      <td>Your Name</td>\n",
              "      <td>CoMix Wave Films</td>\n",
              "      <td>$380,140,500</td>\n",
              "      <td>2016</td>\n",
              "      <td>[6][8]</td>\n",
              "    </tr>\n",
              "    <tr>\n",
              "      <th>3</th>\n",
              "      <td>4</td>\n",
              "      <td>Howl's Moving Castle</td>\n",
              "      <td>Studio Ghibli</td>\n",
              "      <td>$235,184,110</td>\n",
              "      <td>2004</td>\n",
              "      <td>[9]</td>\n",
              "    </tr>\n",
              "    <tr>\n",
              "      <th>4</th>\n",
              "      <td>5</td>\n",
              "      <td>Ponyo</td>\n",
              "      <td>Studio Ghibli</td>\n",
              "      <td>$203,204,882</td>\n",
              "      <td>2008</td>\n",
              "      <td>[10]</td>\n",
              "    </tr>\n",
              "  </tbody>\n",
              "</table>\n",
              "</div>"
            ],
            "text/plain": [
              "   Rank                                              Title  ...  Year     Ref\n",
              "0     1  Demon Slayer: Kimetsu no Yaiba the Movie: Muge...  ...  2020     [5]\n",
              "1     2                                      Spirited Away  ...  2001  [6][7]\n",
              "2     3                                          Your Name  ...  2016  [6][8]\n",
              "3     4                               Howl's Moving Castle  ...  2004     [9]\n",
              "4     5                                              Ponyo  ...  2008    [10]\n",
              "\n",
              "[5 rows x 6 columns]"
            ]
          },
          "metadata": {
            "tags": []
          },
          "execution_count": 17
        }
      ]
    },
    {
      "cell_type": "code",
      "metadata": {
        "id": "1p6rVWsAOntn",
        "colab": {
          "base_uri": "https://localhost:8080/"
        },
        "outputId": "b20d6340-5b64-43f8-82a9-0afa6b6850c8"
      },
      "source": [
        "df.info()"
      ],
      "execution_count": 18,
      "outputs": [
        {
          "output_type": "stream",
          "text": [
            "<class 'pandas.core.frame.DataFrame'>\n",
            "RangeIndex: 50 entries, 0 to 49\n",
            "Data columns (total 6 columns):\n",
            " #   Column           Non-Null Count  Dtype \n",
            "---  ------           --------------  ----- \n",
            " 0   Rank             50 non-null     int64 \n",
            " 1   Title            50 non-null     object\n",
            " 2   Studio           50 non-null     object\n",
            " 3   Worldwide gross  50 non-null     object\n",
            " 4   Year             50 non-null     int64 \n",
            " 5   Ref              50 non-null     object\n",
            "dtypes: int64(2), object(4)\n",
            "memory usage: 2.5+ KB\n"
          ],
          "name": "stdout"
        }
      ]
    },
    {
      "cell_type": "code",
      "metadata": {
        "id": "MCzxukWxOnzh"
      },
      "source": [
        "df['Worldwide gross']=df['Worldwide gross'].str.replace(r\"$\",\"\").str.replace(r\",\",\"\")\n"
      ],
      "execution_count": 19,
      "outputs": []
    },
    {
      "cell_type": "code",
      "metadata": {
        "colab": {
          "base_uri": "https://localhost:8080/"
        },
        "id": "x_rrTSikVS4b",
        "outputId": "19432c91-51cd-4a94-daed-d40c869ef768"
      },
      "source": [
        "df['Worldwide gross']=df['Worldwide gross'].astype('int64')\n",
        "df.info()"
      ],
      "execution_count": 20,
      "outputs": [
        {
          "output_type": "stream",
          "text": [
            "<class 'pandas.core.frame.DataFrame'>\n",
            "RangeIndex: 50 entries, 0 to 49\n",
            "Data columns (total 6 columns):\n",
            " #   Column           Non-Null Count  Dtype \n",
            "---  ------           --------------  ----- \n",
            " 0   Rank             50 non-null     int64 \n",
            " 1   Title            50 non-null     object\n",
            " 2   Studio           50 non-null     object\n",
            " 3   Worldwide gross  50 non-null     int64 \n",
            " 4   Year             50 non-null     int64 \n",
            " 5   Ref              50 non-null     object\n",
            "dtypes: int64(3), object(3)\n",
            "memory usage: 2.5+ KB\n"
          ],
          "name": "stdout"
        }
      ]
    },
    {
      "cell_type": "code",
      "metadata": {
        "colab": {
          "base_uri": "https://localhost:8080/",
          "height": 195
        },
        "id": "7UKvSOehVS-U",
        "outputId": "af55655e-e36a-4b2c-9d92-e95cb3b69ab3"
      },
      "source": [
        "df.drop(['Rank','Title', 'Studio', 'Ref'],axis=1,inplace=True)\n",
        "df.head()"
      ],
      "execution_count": 22,
      "outputs": [
        {
          "output_type": "execute_result",
          "data": {
            "text/html": [
              "<div>\n",
              "<style scoped>\n",
              "    .dataframe tbody tr th:only-of-type {\n",
              "        vertical-align: middle;\n",
              "    }\n",
              "\n",
              "    .dataframe tbody tr th {\n",
              "        vertical-align: top;\n",
              "    }\n",
              "\n",
              "    .dataframe thead th {\n",
              "        text-align: right;\n",
              "    }\n",
              "</style>\n",
              "<table border=\"1\" class=\"dataframe\">\n",
              "  <thead>\n",
              "    <tr style=\"text-align: right;\">\n",
              "      <th></th>\n",
              "      <th>Worldwide gross</th>\n",
              "      <th>Year</th>\n",
              "    </tr>\n",
              "  </thead>\n",
              "  <tbody>\n",
              "    <tr>\n",
              "      <th>0</th>\n",
              "      <td>474600000</td>\n",
              "      <td>2020</td>\n",
              "    </tr>\n",
              "    <tr>\n",
              "      <th>1</th>\n",
              "      <td>395580000</td>\n",
              "      <td>2001</td>\n",
              "    </tr>\n",
              "    <tr>\n",
              "      <th>2</th>\n",
              "      <td>380140500</td>\n",
              "      <td>2016</td>\n",
              "    </tr>\n",
              "    <tr>\n",
              "      <th>3</th>\n",
              "      <td>235184110</td>\n",
              "      <td>2004</td>\n",
              "    </tr>\n",
              "    <tr>\n",
              "      <th>4</th>\n",
              "      <td>203204882</td>\n",
              "      <td>2008</td>\n",
              "    </tr>\n",
              "  </tbody>\n",
              "</table>\n",
              "</div>"
            ],
            "text/plain": [
              "   Worldwide gross  Year\n",
              "0        474600000  2020\n",
              "1        395580000  2001\n",
              "2        380140500  2016\n",
              "3        235184110  2004\n",
              "4        203204882  2008"
            ]
          },
          "metadata": {
            "tags": []
          },
          "execution_count": 22
        }
      ]
    },
    {
      "cell_type": "markdown",
      "metadata": {
        "id": "ANRV61XWbbJC"
      },
      "source": [
        "**Визуальные проверки нормальности**"
      ]
    },
    {
      "cell_type": "code",
      "metadata": {
        "colab": {
          "base_uri": "https://localhost:8080/",
          "height": 367
        },
        "id": "yRJfh6G_bDNn",
        "outputId": "60454709-e29c-41d5-bc12-33a5b7749668"
      },
      "source": [
        "plt.figure(figsize=(10,5))\n",
        "ax=(df['Worldwide gross']).plot.hist()\n",
        "ax.set_xlabel('Worldwide gross')\n",
        "ax.set_title('График гистограммы')"
      ],
      "execution_count": 24,
      "outputs": [
        {
          "output_type": "execute_result",
          "data": {
            "text/plain": [
              "Text(0.5, 1.0, 'График гистограммы')"
            ]
          },
          "metadata": {
            "tags": []
          },
          "execution_count": 24
        },
        {
          "output_type": "display_data",
          "data": {
            "image/png": "[encoded data removed]",
            "text/plain": [
              "<Figure size 720x360 with 1 Axes>"
            ]
          },
          "metadata": {
            "tags": [],
            "needs_background": "light"
          }
        }
      ]
    },
    {
      "cell_type": "code",
      "metadata": {
        "colab": {
          "base_uri": "https://localhost:8080/",
          "height": 367
        },
        "id": "LfS5vtb-cqWC",
        "outputId": "c73b629a-bbc2-4575-f794-3a68fbdf6a55"
      },
      "source": [
        "plt.figure(figsize=(10,5))\n",
        "ax=(df['Year']).plot.hist()\n",
        "ax.set_xlabel('Year')\n",
        "ax.set_title('График гистограммы')"
      ],
      "execution_count": 29,
      "outputs": [
        {
          "output_type": "execute_result",
          "data": {
            "text/plain": [
              "Text(0.5, 1.0, 'График гистограммы')"
            ]
          },
          "metadata": {
            "tags": []
          },
          "execution_count": 29
        },
        {
          "output_type": "display_data",
          "data": {
            "image/png": "[encoded data removed]",
            "text/plain": [
              "<Figure size 720x360 with 1 Axes>"
            ]
          },
          "metadata": {
            "tags": [],
            "needs_background": "light"
          }
        }
      ]
    },
    {
      "cell_type": "code",
      "metadata": {
        "colab": {
          "base_uri": "https://localhost:8080/",
          "height": 290
        },
        "id": "oKE9DUbQbDZJ",
        "outputId": "f28a49eb-2463-4e54-8d9c-3713199a0a38"
      },
      "source": [
        "qqplot(df['Worldwide gross'], line='s')\n",
        "plt.show()"
      ],
      "execution_count": 25,
      "outputs": [
        {
          "output_type": "display_data",
          "data": {
            "image/png": "[encoded data removed]",
            "text/plain": [
              "<Figure size 432x288 with 1 Axes>"
            ]
          },
          "metadata": {
            "tags": [],
            "needs_background": "light"
          }
        }
      ]
    },
    {
      "cell_type": "code",
      "metadata": {
        "colab": {
          "base_uri": "https://localhost:8080/",
          "height": 279
        },
        "id": "-jS181B7cxu8",
        "outputId": "5b6b21d7-b904-468e-a843-0484f870978e"
      },
      "source": [
        "qqplot(df['Year'], line='s')\n",
        "plt.show()"
      ],
      "execution_count": 30,
      "outputs": [
        {
          "output_type": "display_data",
          "data": {
            "image/png": "[encoded data removed]",
            "text/plain": [
              "<Figure size 432x288 with 1 Axes>"
            ]
          },
          "metadata": {
            "tags": [],
            "needs_background": "light"
          }
        }
      ]
    },
    {
      "cell_type": "markdown",
      "metadata": {
        "id": "SoW4kmw3eOLU"
      },
      "source": [
        "На обоих графиках, мы видим, что данные далеки от линии нормального распределения, а это значит, что данные ненормальные"
      ]
    },
    {
      "cell_type": "markdown",
      "metadata": {
        "id": "Nh_0ETW7dgUR"
      },
      "source": [
        "**Статистические тесты нормальности**"
      ]
    },
    {
      "cell_type": "code",
      "metadata": {
        "colab": {
          "base_uri": "https://localhost:8080/"
        },
        "id": "5qTu8GvDVTB0",
        "outputId": "f9c7fcab-a4fb-4a40-d749-a5c5ce559847"
      },
      "source": [
        "# Тест Шапиро-Вилка\n",
        "stat, p=shapiro(df['Worldwide gross']) \n",
        "print('Statistics=%.3f, p=%.3f' % (stat, p))\n",
        "alpha=0.05\n",
        "if p>alpha:\n",
        "  print('Sample looks Gaussian (fail to reject H0)')\n",
        "else:\n",
        "  print('Sample does not looks Gaussian (reject H0)')"
      ],
      "execution_count": 26,
      "outputs": [
        {
          "output_type": "stream",
          "text": [
            "Statistics=0.657, p=0.000\n",
            "Sample does not looks Gaussian (reject H0)\n"
          ],
          "name": "stdout"
        }
      ]
    },
    {
      "cell_type": "code",
      "metadata": {
        "colab": {
          "base_uri": "https://localhost:8080/"
        },
        "id": "kn1Pkgr7c42N",
        "outputId": "4095b5e2-0fab-4341-dbf7-9afbcb292415"
      },
      "source": [
        "stat, p=shapiro(df['Year']) \n",
        "print('Statistics=%.3f, p=%.3f' % (stat, p))\n",
        "alpha=0.05\n",
        "if p>alpha:\n",
        "  print('Sample looks Gaussian (fail to reject H0)')\n",
        "else:\n",
        "  print('Sample does not looks Gaussian (reject H0)')"
      ],
      "execution_count": 33,
      "outputs": [
        {
          "output_type": "stream",
          "text": [
            "Statistics=0.871, p=0.000\n",
            "Sample does not looks Gaussian (reject H0)\n"
          ],
          "name": "stdout"
        }
      ]
    },
    {
      "cell_type": "markdown",
      "metadata": {
        "id": "xG_VFdsQdkl5"
      },
      "source": [
        "Тест не прошел. Метод Шапиро-Уилка показал, что наши данные по годам и прибыльности нормальными не являются"
      ]
    },
    {
      "cell_type": "code",
      "metadata": {
        "colab": {
          "base_uri": "https://localhost:8080/"
        },
        "id": "zG1sWSUkVTEy",
        "outputId": "ad18b69b-65c4-44ed-a075-c59dcc1eec60"
      },
      "source": [
        "# Тест д'Агостино на K^2\n",
        "stat, p=normaltest(df['Worldwide gross'])\n",
        "print('Statistics=%.3f, p=%.3f' % (stat, p))\n",
        "alpha=0.05\n",
        "if p>alpha:\n",
        "  print('Sample looks Gaussian (fail to reject H0)')\n",
        "else:\n",
        "  print('Sample does not looks Gaussian (reject H0)')"
      ],
      "execution_count": 27,
      "outputs": [
        {
          "output_type": "stream",
          "text": [
            "Statistics=42.055, p=0.000\n",
            "Sample does not looks Gaussian (reject H0)\n"
          ],
          "name": "stdout"
        }
      ]
    },
    {
      "cell_type": "code",
      "metadata": {
        "colab": {
          "base_uri": "https://localhost:8080/"
        },
        "id": "BqdAykwHdAv4",
        "outputId": "3998436f-bcef-43c7-b0bb-c0f2d6490bb5"
      },
      "source": [
        "stat, p=normaltest(df['Year'])\n",
        "print('Statistics=%.3f, p=%.3f' % (stat, p))\n",
        "alpha=0.05\n",
        "if p>alpha:\n",
        "  print('Sample looks Gaussian (fail to reject H0)')\n",
        "else:\n",
        "  print('Sample does not looks Gaussian (reject H0)')"
      ],
      "execution_count": 32,
      "outputs": [
        {
          "output_type": "stream",
          "text": [
            "Statistics=14.269, p=0.001\n",
            "Sample does not looks Gaussian (reject H0)\n"
          ],
          "name": "stdout"
        }
      ]
    },
    {
      "cell_type": "markdown",
      "metadata": {
        "id": "JKVNXiYZdyle"
      },
      "source": [
        "Тест не прошел. Метод д'Агостино на K ^ 2 показал, что наши данные по годам и прибыльности нормальными не являются."
      ]
    },
    {
      "cell_type": "code",
      "metadata": {
        "colab": {
          "base_uri": "https://localhost:8080/"
        },
        "id": "yk4yueiecLig",
        "outputId": "cb86c205-920b-48fc-af2d-5ae9f06c4c73"
      },
      "source": [
        "# Тест Андерсона-Дарлинга\n",
        "result=anderson(df['Worldwide gross'])\n",
        "print('Statistics=%.3f' % result.statistic)\n",
        "p=0\n",
        "for i in range(len(result.critical_values)):\n",
        "  sl, cv=result.significance_level[i], result.critical_values[i]\n",
        "  if result.statistic < result.critical_values[i]:\n",
        "    print('%.3f: %.3f , data looks normal (fail to reject H0)' % (sl, cv))\n",
        "  else:\n",
        "    print('%.3f: %.3f , data does not looks normal (reject H0)' % (sl, cv))"
      ],
      "execution_count": 28,
      "outputs": [
        {
          "output_type": "stream",
          "text": [
            "Statistics=5.891\n",
            "15.000: 0.538 , data does not looks normal (reject H0)\n",
            "10.000: 0.613 , data does not looks normal (reject H0)\n",
            "5.000: 0.736 , data does not looks normal (reject H0)\n",
            "2.500: 0.858 , data does not looks normal (reject H0)\n",
            "1.000: 1.021 , data does not looks normal (reject H0)\n"
          ],
          "name": "stdout"
        }
      ]
    },
    {
      "cell_type": "code",
      "metadata": {
        "colab": {
          "base_uri": "https://localhost:8080/"
        },
        "id": "AKv2tjhSdEvJ",
        "outputId": "43116326-f357-459d-ee00-0b3b0c1097de"
      },
      "source": [
        "result=anderson(df['Year'])\n",
        "print('Statistics=%.3f' % result.statistic)\n",
        "p=0\n",
        "for i in range(len(result.critical_values)):\n",
        "  sl, cv=result.significance_level[i], result.critical_values[i]\n",
        "  if result.statistic < result.critical_values[i]:\n",
        "    print('%.3f: %.3f , data looks normal (fail to reject H0)' % (sl, cv))\n",
        "  else:\n",
        "    print('%.3f: %.3f , data does not looks normal (reject H0)' % (sl, cv))"
      ],
      "execution_count": 31,
      "outputs": [
        {
          "output_type": "stream",
          "text": [
            "Statistics=2.138\n",
            "15.000: 0.538 , data does not looks normal (reject H0)\n",
            "10.000: 0.613 , data does not looks normal (reject H0)\n",
            "5.000: 0.736 , data does not looks normal (reject H0)\n",
            "2.500: 0.858 , data does not looks normal (reject H0)\n",
            "1.000: 1.021 , data does not looks normal (reject H0)\n"
          ],
          "name": "stdout"
        }
      ]
    },
    {
      "cell_type": "markdown",
      "metadata": {
        "id": "wCt7JpLad3_Q"
      },
      "source": [
        "Тест не прошел. Метод Андерсона-Дарлинга показал, что наши данные по годам и прибыльности нормальными не являются."
      ]
    }
  ]
}